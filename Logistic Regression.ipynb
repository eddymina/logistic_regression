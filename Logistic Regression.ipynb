{
 "cells": [
  {
   "cell_type": "markdown",
   "metadata": {
    "colab_type": "text",
    "id": "Yy6-7HgcHtmV"
   },
   "source": [
    "# Logistic Regression, 4-ways! \n",
    "\n",
    "Implement logistic regression in each scenario below. For each method:\n",
    "\n",
    "1.   Divide your data into a validation set (say 10% of the iris X, y), and a training set (the rest)\n",
    "2.   Compute a validation loss each epoch, and retain these\n",
    "3.   Make plots of your validation losses (a helper function is provided)\n",
    "4.   Print your model weights.\n"
   ]
  },
  {
   "cell_type": "code",
   "execution_count": 4,
   "metadata": {
    "colab": {},
    "colab_type": "code",
    "id": "6St1XcyjHoAQ"
   },
   "outputs": [],
   "source": [
    "import random\n",
    "import numpy as np\n",
    "import matplotlib.pyplot as plt\n",
    "import pandas as pd \n",
    "import sklearn\n",
    "from sklearn.utils import shuffle\n",
    "from sklearn.metrics import accuracy_score, log_loss"
   ]
  },
  {
   "cell_type": "markdown",
   "metadata": {},
   "source": [
    "## Q1 Gradient of Log Likelihood \n",
    "#### For simplicity, a single point the logistic regression likelihood is: (Avoids notations with i, j) ####\n",
    "Derivative of ln of sigmoid function:<br/>\n",
    "\n",
    "\n",
    "1. $LL(θ) =y*ln\\,\\sigma(w*x)+(1−y) * ln\\,(1−\\sigma(w*x))$\n",
    "<br/><br/>$\\dfrac{\\delta LL(θ)}{\\delta w} = y*\\dfrac{\\delta}{\\delta w}ln\\,\\sigma(w*x)+(1−y)*\\dfrac{\\delta}{\\delta w}ln\\,(1−\\sigma(w*x))$     \n",
    "<br/>Chain Rule:<br/><br/>\n",
    "  $\\dfrac{\\delta ln(1- \\sigma(w*x)}{\\delta w} = \\dfrac{\\delta f}{\\delta u}*\\dfrac{\\delta u}{\\delta w} = -\\dfrac{1}{1-u}*\\dfrac{\\delta\\sigma(w*x)}{\\delta w}$ , where $u = \\sigma(w*x), f = ln(1-u)$ \n",
    "<br/><br/>  \n",
    "$\\dfrac{\\delta ln(\\sigma(w*x)}{\\delta w} = \\dfrac{\\delta f}{\\delta u}*\\dfrac{\\delta u}{\\delta w} = \\dfrac{1}{u}*\\dfrac{\\delta\\sigma(w*x)}{\\delta w}$ , where $u = \\sigma(w*x), f = ln(u)$ \n",
    "    \n",
    "<br/> \n",
    "Therefore:\n",
    "    \n",
    "2. $\\dfrac{\\delta LL(θ)}{\\delta w} = \\bigg[\\dfrac{y}{\\sigma(w*x)}-\\dfrac{1-y}{1-\\sigma(w*x)}\\bigg]*\\dfrac{\\delta\\sigma(w*x)}{\\delta w}$\n",
    "<br/><br/>Chain Rule:<br/><br/>\n",
    "    $\\dfrac{\\delta\\sigma(w*x)}{\\delta w}= \\dfrac{\\delta}{\\delta w(1+e^{-wx})}= \\dfrac{\\delta g}{\\delta p}*\\dfrac{\\delta p}{\\delta w}=\\dfrac{1}{p^2}*x*e^{-wx}$ , where $p = 1+e^{-wx}, g = p^-1 $<br/> <br/><br/>\n",
    "\n",
    "Combining all Variables\n",
    "\n",
    "3. $\\dfrac{\\delta LL(θ)}{\\delta w} = \\bigg[\\dfrac{y}{\\sigma(w*x)}-\\dfrac{1-y}{1-\\sigma(w*x)}\\bigg]*\\dfrac{\\delta\\sigma(w*x)}{\\delta w} = \\dfrac{y-\\sigma(w*x)}{\\dfrac{x*e^{-wx}}{(1+e^{-wx})^2}}*\\dfrac{x*e^{-wx}}{(1+e^{-wx})^2}*x$ = $\\boldsymbol{\\big[ y-\\sigma(w*x) \\big]*x}$ \n",
    "\n",
    "\n",
    "Updating Equation \n",
    "\n",
    "For iteration i: \n",
    "\n",
    "$w_j^{new}= w_j^{old} - \\alpha*\\sum_{i=1}^{n} \\big[ y^i -\\sigma(w*x_j^i) \\big]*x_j $\n"
   ]
  },
  {
   "cell_type": "markdown",
   "metadata": {
    "colab_type": "text",
    "id": "7JGyaFivJUGi"
   },
   "source": [
    "## Shared functionality to read-in and return IRIS data"
   ]
  },
  {
   "cell_type": "code",
   "execution_count": 8,
   "metadata": {
    "colab": {},
    "colab_type": "code",
    "id": "8-vFn1qTtv0e"
   },
   "outputs": [
    {
     "data": {
      "text/plain": [
       "<matplotlib.collections.PathCollection at 0x1225cceb8>"
      ]
     },
     "execution_count": 8,
     "metadata": {},
     "output_type": "execute_result"
    },
    {
     "data": {
      "image/png": "[encoded data removed]",
      "text/plain": [
       "<Figure size 432x288 with 1 Axes>"
      ]
     },
     "metadata": {
      "needs_background": "light"
     },
     "output_type": "display_data"
    }
   ],
   "source": [
    "def get_iris_X_y(shuffle_instances=True):\n",
    "    '''\n",
    "    The Iris dataset is a famous dataset comprising flower characteristics.\n",
    "    We'll recast as a binary classification task.\n",
    "    '''\n",
    "    iris_df = pd.read_csv('https://archive.ics.uci.edu/ml/machine-learning-databases/iris/iris.data', \n",
    "                   header=None)\n",
    "    y = iris_df.iloc[0:100, 4].values \n",
    "    y = np.where(y == 'Iris-setosa', -1, 1)\n",
    "    y[y<0] = 0 # convert to 1/0 labels\n",
    "    X = iris_df.iloc[0:100, [0, 2]].values\n",
    "    if shuffle_instances:\n",
    "        X, y = shuffle(X, y, random_state=0)\n",
    "    return X, y\n",
    "\n",
    "X,y= get_iris_X_y()\n",
    "plt.scatter(X[:,0],X[:,1])"
   ]
  },
  {
   "cell_type": "markdown",
   "metadata": {
    "colab_type": "text",
    "id": "c8j2x_d4rXQV"
   },
   "source": [
    "## Q2 \"Pure\" NumPy Implementation"
   ]
  },
  {
   "cell_type": "markdown",
   "metadata": {
    "colab_type": "text",
    "id": "pZLQCumJXue0"
   },
   "source": [
    "In Q1, we derived the gradient:\n",
    "\n",
    "$ \\begin{equation}\n",
    "    - \\nabla_{\\bf w} LL = - \\sum_i (y_i - \\sigma({\\bf w} \\cdot {\\bf x}_i)) {\\bf x}_i\n",
    "\\end{equation}\n",
    "$"
   ]
  },
  {
   "cell_type": "code",
   "execution_count": 3,
   "metadata": {
    "colab": {},
    "colab_type": "code",
    "id": "gB6LG0Z6KJPm",
    "scrolled": false
   },
   "outputs": [
    {
     "name": "stdout",
     "output_type": "stream",
     "text": [
      "Given Data: 100 pts | Training Set Size: 90 pts | Validation set 10.0% of Data ( 10 )pts.\n",
      "\n",
      "Random Weights Initialized: [0.4553776  0.04752991] \n",
      "\n",
      "\n",
      ".....// Training //.....\n",
      "\n",
      "\n",
      " For Epoch: 0 With Training Loss: 55.086179 | Validation Loss: 7.319224\n",
      "\n",
      " For Epoch: 50 With Training Loss: 9.560128 | Validation Loss: 1.242406\n",
      "\n",
      " For Epoch: 100 With Training Loss: 5.291998 | Validation Loss: 0.7254\n",
      "\n",
      " For Epoch: 150 With Training Loss: 3.671516 | Validation Loss: 0.518709\n",
      "\n",
      " Training Accuracy: 1.0 | Validation Accuracy: 1.0\n",
      "\n",
      "\n",
      " ............................ \n",
      "\n",
      "Optimized Weights:  [-1.26909498  2.52472962]\n"
     ]
    },
    {
     "data": {
      "image/png": "[encoded data removed]",
      "text/plain": [
       "<Figure size 432x288 with 1 Axes>"
      ]
     },
     "metadata": {
      "needs_background": "light"
     },
     "output_type": "display_data"
    },
    {
     "data": {
      "image/png": "[encoded data removed]",
      "text/plain": [
       "<Figure size 432x288 with 1 Axes>"
      ]
     },
     "metadata": {
      "needs_background": "light"
     },
     "output_type": "display_data"
    }
   ],
   "source": [
    "def get_val(X,y, val_p=.1):\n",
    "    \"\"\"\n",
    "    Get randomly shuffles X and y into Training and Validation sets \n",
    "    \n",
    "    \"\"\"\n",
    "    sample_size= int(val_p*len(X))\n",
    "    stacked=np.column_stack((X, y))\n",
    "    l_stacked=stacked.tolist()\n",
    "    validation = np.array([l_stacked.pop(random.randrange(len(l_stacked))) for _ in range(sample_size)])\n",
    "    stacked = np.array(l_stacked)\n",
    "    X_train= stacked[:,0:2]\n",
    "    y_train= np.array([int(i) for i in stacked[:,2]])\n",
    "    val_x= validation[:,0:2]\n",
    "    val_y= np.array([int(i) for i in validation[:,2]])\n",
    "    return X_train,y_train,val_x,val_y\n",
    "\n",
    "def sigmoid(x):\n",
    "    \"\"\"\n",
    "    Params:\n",
    "    ---\n",
    "    \n",
    "    x: nxd numpy array \n",
    "    \n",
    "    Output:\n",
    "    ---\n",
    "    Result of Sigmoid \"Squishing\" Function: Array of vals in rang {0,1}\n",
    "    \"\"\"\n",
    "    return 1/(1+np.exp(-x))\n",
    "\n",
    "def predict(weights,x):\n",
    "    \"\"\"\n",
    "    Params:\n",
    "    ---\n",
    "    weights: 1d array of weights. \n",
    "    x: nd numpy array \n",
    "    \n",
    "    Output:\n",
    "    ---\n",
    "    nx1 array with the predicted class probabilities \n",
    "    Computes dot product and then applies sigmoid function \n",
    "    \"\"\"\n",
    "    prediction= sigmoid(np.dot(x,weights))\n",
    "    return prediction\n",
    "\n",
    "def log_loss(y,prediction):\n",
    "    \"\"\"\n",
    "    Logistic Regression Loss Function Defined \n",
    "    \n",
    "    Params:\n",
    "    ---\n",
    "    \n",
    "    y= actual class (nx1 array)\n",
    "    prediction= predicted class (nx1 array)\n",
    "    \n",
    "    Returns:\n",
    "    Average of the loss for a entire set (epoch of data)\n",
    "    \"\"\"\n",
    "    return -.5*np.sum(y*np.log(prediction)+(1-y)*np.log(1-prediction))\n",
    "\n",
    "def loss_plot(val_loss):\n",
    "    \"\"\"\n",
    "    Show Log Loss Plot \n",
    "    \"\"\"\n",
    "    plt.figure(1)\n",
    "    x= range(len(val_loss))\n",
    "    plt.plot(x,val_loss,color='g')\n",
    "    plt.xlabel('Epoch')\n",
    "    plt.ylabel('(Validation) Loss')\n",
    "    plt.title(\"Loss vs. Epoch\")\n",
    "    plt.draw()\n",
    "    \n",
    "def get_acc(weights,X_train,val_x,y_train,val_y):\n",
    "    \n",
    "    \"\"\"\n",
    "    Get accuracy (of training and Validation sets) using Sklearn \n",
    "    \n",
    "    \"\"\"\n",
    "    train_predictions= np.array([int(np.round(v)) for v in predict(weights,X_train)])\n",
    "    val_predictions=np.array([int(np.round(v)) for v in predict(weights,val_x)])\n",
    "    \n",
    "    print('\\n Training Accuracy: {}'.format(accuracy_score(train_predictions, y_train)),'| Validation Accuracy: {}\\n'.format(accuracy_score(val_predictions, val_y)))\n",
    "\n",
    "def boundary_plot(X_train,y_train,w_guess):\n",
    "    \"\"\"\n",
    "    Show how the optimized weights form a boundary. \n",
    "    \n",
    "    \"\"\"\n",
    "    plt.figure(0)\n",
    "    plt.scatter(X_train[:,0], X_train[:,1], c= y_train.ravel())\n",
    "    ax = plt.gca()\n",
    "    ax.autoscale(False)\n",
    "    x_vals = np.array(ax.get_xlim())\n",
    "    y_vals = -(x_vals * w_guess[0])/w_guess[1]\n",
    "    plt.plot(x_vals, y_vals, '--', c=\"red\")\n",
    "    plt.title(\"Boundary Plot boundary @ w[0]*x1 + w[1]*x2 = 0\")\n",
    "    plt.draw()\n",
    "\n",
    "###### MAIN FUNCTION #####    \n",
    "def LR_SGD(X, y, epochs, alpha=0.1, print_every=10, val_p=0.1):\n",
    "    '''\n",
    "    Parameters\n",
    "    ---\n",
    "    X: (n x d) matrix comprising n instances with d dimensions/features.\n",
    "    y: (n x 1) vector comprising labels (0/1)\n",
    "    epochs: number of epochs to run\n",
    "    alpha: the learning rate\n",
    "    val_p: the percentage of data to use as a validation set\n",
    "\n",
    "    Returns:\n",
    "    weights, array of epoch log-likelihoods\n",
    "    '''\n",
    "    # Isolate the Data into Train and Validation \n",
    "    X_train,y_train,val_x,val_y= get_val(X,y,val_p)\n",
    "    \n",
    "    \n",
    "    print (\"Given Data:\", len(X), \"pts | Training Set Size:\",len(X_train),'pts | Validation set {}% of Data ('.format(np.round(val_p*100)),len(val_x),')pts.')\n",
    "    weights= np.random.rand(X.shape[1]) #initialize random weights (no bias taken into account)\n",
    "    print (\"\\nRandom Weights Initialized: {} \\n\".format(weights))\n",
    "    print (\"\\n.....// Training //.....\\n\")\n",
    "    training_loss=[]\n",
    "    validation_loss=[]\n",
    "    for epoch in range(epochs): #loop through all training data\n",
    "        \n",
    "        prediction= predict(weights,X_train) #sig(weights*x) gives the class probaility \n",
    "        train_loss= log_loss(y_train,prediction)# Loss is defined per epoch as average of the loss per X,y\n",
    "        val_loss= log_loss(val_y,predict(weights,val_x))\n",
    "        \n",
    "        dw=np.dot((prediction - y_train),X_train)\n",
    "        weights = weights - alpha*(dw/len(y_train))\n",
    "        validation_loss.append(val_loss)\n",
    "        \n",
    "        if epoch % print_every == 0:\n",
    "            print (\"\\n For Epoch:\", epoch, \"With Training Loss:\", np.around(train_loss,decimals=6), \"| Validation Loss:\",np.around(val_loss,decimals=6))\n",
    "\n",
    "    get_acc(weights,X_train,val_x,y_train,val_y) \n",
    "    boundary_plot(X_train,y_train,weights)\n",
    "    loss_plot(validation_loss)  \n",
    "    \n",
    "    return weights \n",
    "\n",
    "########## RUN FUNCTION #######################\n",
    "np_weights = LR_SGD(X, y, epochs=200, alpha=0.1, print_every=50, val_p=.1)\n",
    "print (\"\\n ............................ \\n\")\n",
    "print (\"Optimized Weights: \", np_weights)"
   ]
  },
  {
   "cell_type": "markdown",
   "metadata": {
    "colab_type": "text",
    "id": "d09Lg5RVrpyi"
   },
   "source": [
    "## Q3: TensorFlow"
   ]
  },
  {
   "cell_type": "code",
   "execution_count": 4,
   "metadata": {
    "colab": {},
    "colab_type": "code",
    "id": "EwM2-H9RvuKh"
   },
   "outputs": [
    {
     "data": {
      "text/plain": [
       "sys.version_info(major=3, minor=6, micro=8, releaselevel='final', serial=0)"
      ]
     },
     "execution_count": 4,
     "metadata": {},
     "output_type": "execute_result"
    }
   ],
   "source": [
    "import tensorflow as tf\n",
    "import sys\n",
    "sys.version\n",
    "sys.version_info"
   ]
  },
  {
   "cell_type": "code",
   "execution_count": 17,
   "metadata": {
    "scrolled": false
   },
   "outputs": [
    {
     "name": "stdout",
     "output_type": "stream",
     "text": [
      "\n",
      "For Epoch 0\n",
      "Training loss is: 1.60 | Validation loss is: 1.79\n",
      "coef estimates:  [[-0.56237036]\n",
      " [ 0.04032376]]\n",
      "\n",
      "For Epoch 2000\n",
      "Training loss is: 0.31 | Validation loss is: 0.31\n",
      "coef estimates:  [[-0.42147073]\n",
      " [ 0.8803428 ]]\n",
      "\n",
      "For Epoch 4000\n",
      "Training loss is: 0.22 | Validation loss is: 0.21\n",
      "coef estimates:  [[-0.62733793]\n",
      " [ 1.2705231 ]]\n",
      "\n",
      "For Epoch 6000\n",
      "Training loss is: 0.16 | Validation loss is: 0.16\n",
      "coef estimates:  [[-0.7770712]\n",
      " [ 1.5566307]]\n",
      "\n",
      "For Epoch 8000\n",
      "Training loss is: 0.13 | Validation loss is: 0.13\n",
      "coef estimates:  [[-0.89381707]\n",
      " [ 1.7808496 ]]\n"
     ]
    },
    {
     "data": {
      "image/png": "[encoded data removed]",
      "text/plain": [
       "<Figure size 432x288 with 1 Axes>"
      ]
     },
     "metadata": {
      "needs_background": "light"
     },
     "output_type": "display_data"
    }
   ],
   "source": [
    "def LR_TF(X, y, epochs, print_every, val_p=0.2):\n",
    "    \"\"\"\n",
    "    Log Reg using Pytorch. Returns optimized weights given:\n",
    "    \n",
    "    X: nd array of feature values \n",
    "    y: 1d array of target values \n",
    "    epochs: number of epochs \n",
    "    print_every: get training and val loss every n epochs \n",
    "    val_p= % of data that is validation float [0 1]\n",
    "    \"\"\"\n",
    "    X_train,y_train,val_x,val_y= get_val(X,y,val_p)\n",
    "    train_count = X_train.shape[0] #the number of samples to given\n",
    "    val_count = val_x.shape[0]\n",
    "\n",
    "    y_train = y_train.reshape(train_count,1) #reshape to n x 1 \n",
    "    val_y = val_y.reshape(val_count,1) #reshape to n x 1 \n",
    "\n",
    "    #declare weights\n",
    "    weights = tf.Variable(tf.random_normal(shape=[2, 1]))\n",
    "    #create place holders \n",
    "    x_tf = tf.placeholder(dtype=tf.float32, shape=[None, 2])\n",
    "    y_tf = tf.placeholder(dtype=tf.float32, shape=[None, 1])\n",
    "  \n",
    "\n",
    "\n",
    "\n",
    "    #y_hat = x * weights \n",
    "    y_hat = tf.matmul(x_tf, weights)\n",
    "    #loss= binary cross entropy \n",
    "    loss = tf.reduce_mean(tf.nn.sigmoid_cross_entropy_with_logits(logits=y_hat, labels=y_tf))\n",
    "    #select optimizer \n",
    "    optimizer = tf.train.GradientDescentOptimizer(learning_rate = 0.001).minimize(loss)\n",
    "\n",
    "    #begin session \n",
    "\n",
    "    init = tf.global_variables_initializer()\n",
    "    loss_vals=[]\n",
    "    \n",
    "    with tf.Session() as sess:\n",
    "        sess.run(init)\n",
    "        for epoch in range(epochs):\n",
    "            sess.run(optimizer, feed_dict={x_tf: X_train, y_tf: y_train})\n",
    "            train_loss = sess.run(loss, feed_dict={x_tf: X_train, y_tf: y_train})\n",
    "            val_loss = sess.run(loss, feed_dict={x_tf: val_x, y_tf: val_y})\n",
    "            loss_vals.append(val_loss)\n",
    "            if epoch % print_every == 0:\n",
    "                print(\"\\nFor Epoch {}\".format(epoch))\n",
    "                print(\"Training loss is: {:.2f}\".format(train_loss),\"| Validation loss is: {:.2f}\".format(val_loss))\n",
    "                print(\"coef estimates: \" ,weights.eval())\n",
    "                tf_weights= np.array(weights.eval())\n",
    "                    \n",
    "    loss_plot(loss_vals)\n",
    "    return tf_weights\n",
    "   \n",
    "tf_weights=LR_TF(X, y,epochs=10000, print_every=2000, val_p=0.2)"
   ]
  },
  {
   "cell_type": "markdown",
   "metadata": {
    "colab_type": "text",
    "id": "cZqnbctC-sL8"
   },
   "source": [
    "## Keras"
   ]
  },
  {
   "cell_type": "code",
   "execution_count": 6,
   "metadata": {},
   "outputs": [
    {
     "name": "stderr",
     "output_type": "stream",
     "text": [
      "Using TensorFlow backend.\n"
     ]
    },
    {
     "name": "stdout",
     "output_type": "stream",
     "text": [
      "Ideal Model Parameters: [array([[-1.5306588],\n",
      "       [ 3.0454788]], dtype=float32)]\n"
     ]
    },
    {
     "data": {
      "image/png": "[encoded data removed]",
      "text/plain": [
       "<Figure size 432x288 with 1 Axes>"
      ]
     },
     "metadata": {
      "needs_background": "light"
     },
     "output_type": "display_data"
    }
   ],
   "source": [
    "import keras\n",
    "from keras.models import Sequential \n",
    "from keras.layers import Dense\n",
    "\n",
    "def LR_Keras(X, y, epochs, verbose,val_p=.1):\n",
    "    \"\"\"\n",
    "    Log Reg using kears. Returns optimized weights given:\n",
    "    \n",
    "    X: nd array of feature values \n",
    "    y: 1d array of target values \n",
    "    epochs: number of epochs \n",
    "    val_p= % of data that is validation float [0 1]\n",
    "    \n",
    "    \"\"\"\n",
    "    \n",
    "    X_train,y_train,val_x,val_y= get_val(X,y,val_p)\n",
    "    model = Sequential()\n",
    "    model.add(Dense(1, use_bias=False,activation='sigmoid', input_dim=X.shape[1]))\n",
    "    model.compile(optimizer='sgd', loss='binary_crossentropy')\n",
    "    train_history=model.fit(X_train, y_train, epochs=epochs,verbose=verbose,  validation_data=(val_x,val_y))\n",
    "    print (\"Ideal Model Parameters:\",model.get_weights())\n",
    "    loss_plot(train_history.history['val_loss'])\n",
    "    return model.get_weights()\n",
    "\n",
    "keras_weights=LR_Keras(X, y, epochs=1000,verbose=0,val_p=.1)[0]"
   ]
  },
  {
   "cell_type": "markdown",
   "metadata": {
    "colab_type": "text",
    "id": "_xzTHCqr-obS"
   },
   "source": [
    "## PyTorch (w/NN)"
   ]
  },
  {
   "cell_type": "code",
   "execution_count": 7,
   "metadata": {
    "colab": {
     "base_uri": "https://localhost:8080/",
     "height": 141
    },
    "colab_type": "code",
    "id": "QOr2IN6gcKJ8",
    "outputId": "99d5abd4-006c-42f5-a69d-624384d09901"
   },
   "outputs": [
    {
     "name": "stdout",
     "output_type": "stream",
     "text": [
      "Requirement already satisfied: torch in /Users/eddymina/anaconda3/envs/py36/lib/python3.6/site-packages (1.0.0)\r\n"
     ]
    }
   ],
   "source": [
    "! pip install torch"
   ]
  },
  {
   "cell_type": "code",
   "execution_count": 8,
   "metadata": {},
   "outputs": [
    {
     "name": "stdout",
     "output_type": "stream",
     "text": [
      "For Epoch 0 : Train Loss: 1.2076926231384277 | Val Loss: 0.7639962434768677\n",
      "For Epoch 20000 : Train Loss: 0.03624248504638672 | Val Loss: 0.02344047650694847\n",
      "For Epoch 40000 : Train Loss: 0.020528919994831085 | Val Loss: 0.01185634359717369\n",
      "For Epoch 60000 : Train Loss: 0.014749206602573395 | Val Loss: 0.007947580888867378\n",
      "For Epoch 80000 : Train Loss: 0.011679025366902351 | Val Loss: 0.005984914489090443\n",
      "[-2.438721   4.7338314]\n"
     ]
    },
    {
     "data": {
      "image/png": "[encoded data removed]",
      "text/plain": [
       "<Figure size 432x288 with 1 Axes>"
      ]
     },
     "metadata": {
      "needs_background": "light"
     },
     "output_type": "display_data"
    }
   ],
   "source": [
    "import torch\n",
    "import torch.nn as nn\n",
    "from torch.autograd import Variable\n",
    "\n",
    "def LR_torch(X, y, epochs, print_every, val_p=0.1):\n",
    "    \"\"\"\n",
    "    Log Reg using Pytorch. Returns optimized weights given:\n",
    "    \n",
    "    Params:\n",
    "    ---\n",
    "    \n",
    "    X: nd array of feature values \n",
    "    y: 1d array of target values \n",
    "    epochs: number of epochs \n",
    "    print_every: get training and val loss every n epochs \n",
    "    val_p= % of data that is validation float [0 1]\n",
    "    \"\"\"\n",
    "\n",
    "    class LogReg(nn.Module):\n",
    "\n",
    "        def __init__(self):\n",
    "            super(LogReg, self).__init__() \n",
    "            self.linear = nn.Linear(2, 1, bias=False)\n",
    "\n",
    "        def forward(self, X):\n",
    "            \n",
    "            return torch.sigmoid(self.linear(X))\n",
    "\n",
    "    X_train,y_train,val_x,val_y= get_val(X,y,val_p)\n",
    "    train_count = X_train.shape[0]\n",
    "    val_count = val_x.shape[0]\n",
    "    y_train = y_train.reshape(train_count,1)\n",
    "    val_y = val_y.reshape(val_count,1) #reshape to n x 1 \n",
    "\n",
    "    L = nn.BCELoss() \n",
    "    model = LogReg()\n",
    "    optimizer = torch.optim.SGD(model.parameters(), lr=0.001)\n",
    "    from torch.autograd import Variable\n",
    "    X_t = Variable(torch.from_numpy(X_train)).float()\n",
    "    y_t = Variable(torch.from_numpy(y_train)).float()\n",
    "    X_v = Variable(torch.from_numpy(val_x)).float()\n",
    "    y_v = Variable(torch.from_numpy(val_y)).float()\n",
    "    loss_vals=[]\n",
    "    for epoch in range(epochs):\n",
    "        optimizer.zero_grad() # clear out gradients (stored in vars)\n",
    "        predictions = model(X_t)\n",
    "        predictions_val = model(X_v) \n",
    "        loss = L(predictions, y_t)\n",
    "        loss_v = L(predictions_val, y_v)\n",
    "        loss.backward()\n",
    "        loss_v.backward()\n",
    "        loss_vals.append(loss_v)\n",
    "        optimizer.step()\n",
    "        \n",
    "        if epoch % print_every == 0:\n",
    "          print(\"For Epoch\",epoch,\": Train Loss:\",loss.data.item(),\"| Val Loss:\",loss_v.data.item())\n",
    "    loss_plot(loss_vals)\n",
    "    return np.array(list(model.parameters())[0].detach())[0]\n",
    "\n",
    "pytorch_weights=LR_torch(X, y, epochs=100000, print_every= 20000, val_p=0.1)\n",
    "print (pytorch_weights)"
   ]
  },
  {
   "cell_type": "code",
   "execution_count": 9,
   "metadata": {},
   "outputs": [
    {
     "data": {
      "text/plain": [
       "array([-2.438721 ,  4.7338314], dtype=float32)"
      ]
     },
     "execution_count": 9,
     "metadata": {},
     "output_type": "execute_result"
    }
   ],
   "source": [
    "pytorch_weights"
   ]
  },
  {
   "cell_type": "code",
   "execution_count": 18,
   "metadata": {},
   "outputs": [
    {
     "name": "stdout",
     "output_type": "stream",
     "text": [
      "Ratio of Weights all are approximately ~ [-2]\n",
      "\n",
      "Numpy coded weights ratio:\n",
      "-1.9893937478464947\n",
      "\n",
      "Keras weights ratio:\n",
      "[-1.9896523]\n",
      "\n",
      "Tensorflow weights ratio:\n",
      "[-1.9924095]\n",
      "\n",
      "Pytorch weights ratio:\n",
      "-1.9411124\n"
     ]
    }
   ],
   "source": [
    "weights= [np_weights, keras_weights, tf_weights, pytorch_weights]\n",
    "titles= ['Numpy coded weights', 'Keras weights', 'Tensorflow weights', 'Pytorch weights']\n",
    "print(\"Ratio of Weights all are approximately ~ [-2]\")\n",
    "for i,w in enumerate(weights):\n",
    "    print(\"\\n\"+titles[i]+\" ratio:\")\n",
    "    print(w[1]/w[0])\n"
   ]
  },
  {
   "cell_type": "markdown",
   "metadata": {
    "colab_type": "text",
    "id": "djx1Bv0BCpRH"
   },
   "source": [
    "Don't forget to rerun all your cells now that you're done!"
   ]
  }
 ],
 "metadata": {
  "colab": {
   "collapsed_sections": [],
   "name": "DS4440_HW1_LR.starter.ipynb",
   "provenance": [],
   "version": "0.3.2"
  },
  "kernelspec": {
   "display_name": "Python 3",
   "language": "python",
   "name": "python3"
  },
  "language_info": {
   "codemirror_mode": {
    "name": "ipython",
    "version": 3
   },
   "file_extension": ".py",
   "mimetype": "text/x-python",
   "name": "python",
   "nbconvert_exporter": "python",
   "pygments_lexer": "ipython3",
   "version": "3.7.1"
  }
 },
 "nbformat": 4,
 "nbformat_minor": 1
}
